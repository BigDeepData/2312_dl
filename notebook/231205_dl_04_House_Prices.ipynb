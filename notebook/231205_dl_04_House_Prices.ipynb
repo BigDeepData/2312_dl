{
  "nbformat": 4,
  "nbformat_minor": 0,
  "metadata": {
    "colab": {
      "provenance": []
    },
    "kernelspec": {
      "name": "python3",
      "display_name": "Python 3"
    },
    "language_info": {
      "name": "python"
    }
  },
  "cells": [
    {
      "cell_type": "code",
      "execution_count": 2,
      "metadata": {
        "id": "YkPFs28SLF7k"
      },
      "outputs": [],
      "source": [
        "# 필요한 라이브러리를 임포트합니다\n",
        "import pandas as pd            # 데이터 프레임을 다루기 위한 Pandas\n",
        "import numpy as np             # 배열 및 수학 연산을 위한 NumPy\n",
        "import matplotlib.pyplot as plt  # 데이터 시각화를 위한 Matplotlib\n",
        "from sklearn.model_selection import train_test_split  # 데이터 분할을 위한 Scikit-Learn\n",
        "from sklearn.preprocessing import StandardScaler     # 데이터 표준화를 위한 Scikit-Learn\n",
        "\n",
        "# 딥러닝 모델을 만들기 위한 Keras 라이브러리 관련 모듈을 임포트합니다\n",
        "from keras.models import Sequential    # Sequential 모델\n",
        "from keras.layers import Dense, Dropout  # 신경망 레이어와 드롭아웃 레이어\n",
        "from keras.callbacks import EarlyStopping, ModelCheckpoint  # 조기 종료와 모델 체크포인트 콜백"
      ]
    },
    {
      "cell_type": "code",
      "source": [
        "# 데이터를 불러옵니다. 이 데이터는 주택 가격과 관련된 정보를 포함한 CSV 파일입니다.\n",
        "data = pd.read_csv('https://raw.githubusercontent.com/BigDeepData/2312_dl/main/data/HousePrices.csv')\n",
        "\n",
        "# 필요한 열을 선택하고 결측치를 처리합니다.\n",
        "data = data[['OverallQual', 'GrLivArea', 'GarageCars', 'TotalBsmtSF', 'FullBath', 'YearBuilt', 'SalePrice']]\n",
        "data.dropna(inplace=True)  # 결측치가 있는 행을 제거합니다.\n",
        "\n",
        "# 특성과 레이블을 분리합니다.\n",
        "X = data.drop('SalePrice', axis=1)  # 입력 특성 (독립 변수)\n",
        "y = data['SalePrice']  # 출력 레이블 (종속 변수)\n",
        "\n",
        "# 데이터를 학습용과 테스트용으로 분할합니다.\n",
        "X_train, X_test, y_train, y_test = train_test_split(X, y, test_size=0.2, random_state=42)\n",
        "\n",
        "# 데이터를 표준화합니다. (평균을 0, 표준 편차를 1로 만듦)\n",
        "scaler = StandardScaler()\n",
        "X_train = scaler.fit_transform(X_train)\n",
        "X_test = scaler.transform(X_test)"
      ],
      "metadata": {
        "id": "iv8Xf3RSLG7X"
      },
      "execution_count": 3,
      "outputs": []
    },
    {
      "cell_type": "code",
      "source": [
        "# 딥러닝 모델을 생성합니다. 이 모델은 Sequential 모델로 시작합니다.\n",
        "model = Sequential([\n",
        "    # 첫 번째 은닉층(Dense)을 추가합니다. 128개의 뉴런을 가지며 활성화 함수는 ReLU를 사용합니다.\n",
        "    # 입력 특성의 크기(input_shape)는 X_train의 열의 수와 일치하도록 설정합니다.\n",
        "    Dense(128, activation='relu', input_shape=(X_train.shape[1],)),\n",
        "\n",
        "    # 드롭아웃(Dropout) 레이어를 추가합니다. 오버피팅을 방지하기 위해 20%의 뉴런을 비활성화합니다.\n",
        "    Dropout(0.2),\n",
        "\n",
        "    # 두 번째 은닉층(Dense)을 추가합니다. 64개의 뉴런을 가지며 활성화 함수는 ReLU를 사용합니다.\n",
        "    Dense(64, activation='relu'),\n",
        "\n",
        "    # 출력 레이어(Dense)를 추가합니다. 하나의 뉴런을 가지며 출력 값은 주택 가격을 예측하는 값입니다.\n",
        "    Dense(1)\n",
        "])\n",
        "\n",
        "# 모델의 요약 정보를 출력합니다. 모델 구조와 파라미터 수 등을 확인할 수 있습니다.\n",
        "model.summary()"
      ],
      "metadata": {
        "colab": {
          "base_uri": "https://localhost:8080/"
        },
        "id": "h6DpirsXMPxM",
        "outputId": "8e8e7927-5d6b-433c-a334-e56a72b752e9"
      },
      "execution_count": 4,
      "outputs": [
        {
          "output_type": "stream",
          "name": "stdout",
          "text": [
            "Model: \"sequential\"\n",
            "_________________________________________________________________\n",
            " Layer (type)                Output Shape              Param #   \n",
            "=================================================================\n",
            " dense (Dense)               (None, 128)               896       \n",
            "                                                                 \n",
            " dropout (Dropout)           (None, 128)               0         \n",
            "                                                                 \n",
            " dense_1 (Dense)             (None, 64)                8256      \n",
            "                                                                 \n",
            " dense_2 (Dense)             (None, 1)                 65        \n",
            "                                                                 \n",
            "=================================================================\n",
            "Total params: 9217 (36.00 KB)\n",
            "Trainable params: 9217 (36.00 KB)\n",
            "Non-trainable params: 0 (0.00 Byte)\n",
            "_________________________________________________________________\n"
          ]
        }
      ]
    },
    {
      "cell_type": "code",
      "source": [
        "# 모델을 컴파일합니다. 컴파일 단계에서는 모델의 학습 방법과 손실 함수를 설정합니다.\n",
        "\n",
        "# 옵티마이저(optimizer)는 'adam'을 사용합니다. Adam은 효율적인 최적화 알고리즘 중 하나입니다.\n",
        "# Adam은 학습률(learning rate)을 자동으로 조정하여 빠른 수렴을 도와줍니다.\n",
        "\n",
        "# 손실 함수(loss)는 'mean_squared_error'를 사용합니다. 이것은 회귀(Regression) 문제에서 일반적으로 사용되는\n",
        "# 손실 함수로 예측값과 실제값 간의 평균 제곱 오차를 최소화하려고 합니다.\n",
        "model.compile(optimizer='adam', loss='mean_squared_error')"
      ],
      "metadata": {
        "id": "-BqZ4rXIMUzs"
      },
      "execution_count": 5,
      "outputs": []
    },
    {
      "cell_type": "code",
      "source": [
        "# 조기 종료(Early Stopping) 콜백을 설정합니다. 이 콜백은 검증 손실(validation loss)을 모니터링하고,\n",
        "# 10번의 연속적인 검증 손실 상승(patience=10)이 발생하면 학습을 조기에 종료합니다.\n",
        "early_stopping = EarlyStopping(monitor='val_loss', patience=10)\n",
        "\n",
        "# 모델 체크포인트(Model Checkpoint) 콜백을 설정합니다. 이 콜백은 최상의 검증 성능을 가진 모델을 저장합니다.\n",
        "# save_best_only=True로 설정하면 검증 손실이 감소할 때만 모델을 저장합니다.\n",
        "model_checkpoint = ModelCheckpoint('best_model.h5', save_best_only=True)\n",
        "\n",
        "# 모델을 훈련합니다.\n",
        "# - X_train: 학습 데이터\n",
        "# - y_train: 학습 레이블\n",
        "# - epochs: 에포크 수, 모델이 전체 데이터를 몇 번 반복 학습할지를 나타냅니다.\n",
        "# - validation_split: 학습 데이터의 일부를 검증 데이터로 사용하여 모델의 성능을 평가합니다.\n",
        "# - callbacks: 조기 종료와 모델 체크포인트 콜백을 설정합니다.\n",
        "history = model.fit(X_train, y_train, epochs=100, validation_split=0.2, callbacks=[early_stopping, model_checkpoint])"
      ],
      "metadata": {
        "colab": {
          "base_uri": "https://localhost:8080/"
        },
        "id": "QgSY5eovMWjZ",
        "outputId": "58e37747-a2b2-4c08-9b7d-b53a3a36d2a0"
      },
      "execution_count": 6,
      "outputs": [
        {
          "output_type": "stream",
          "name": "stdout",
          "text": [
            "Epoch 1/100\n",
            "30/30 [==============================] - 2s 21ms/step - loss: 39146389504.0000 - val_loss: 37840900096.0000\n",
            "Epoch 2/100\n",
            "19/30 [==================>...........] - ETA: 0s - loss: 39608680448.0000"
          ]
        },
        {
          "output_type": "stream",
          "name": "stderr",
          "text": [
            "/usr/local/lib/python3.10/dist-packages/keras/src/engine/training.py:3079: UserWarning: You are saving your model as an HDF5 file via `model.save()`. This file format is considered legacy. We recommend using instead the native Keras format, e.g. `model.save('my_model.keras')`.\n",
            "  saving_api.save_model(\n"
          ]
        },
        {
          "output_type": "stream",
          "name": "stdout",
          "text": [
            "\b\b\b\b\b\b\b\b\b\b\b\b\b\b\b\b\b\b\b\b\b\b\b\b\b\b\b\b\b\b\b\b\b\b\b\b\b\b\b\b\b\b\b\b\b\b\b\b\b\b\b\b\b\b\b\b\b\b\b\b\b\b\b\b\b\b\b\b\b\b\b\b\b\r30/30 [==============================] - 0s 8ms/step - loss: 39144132608.0000 - val_loss: 37837414400.0000\n",
            "Epoch 3/100\n",
            "30/30 [==============================] - 0s 5ms/step - loss: 39137837056.0000 - val_loss: 37828542464.0000\n",
            "Epoch 4/100\n",
            "30/30 [==============================] - 0s 7ms/step - loss: 39123673088.0000 - val_loss: 37809602560.0000\n",
            "Epoch 5/100\n",
            "30/30 [==============================] - 0s 5ms/step - loss: 39095906304.0000 - val_loss: 37776461824.0000\n",
            "Epoch 6/100\n",
            "30/30 [==============================] - 0s 4ms/step - loss: 39049437184.0000 - val_loss: 37723082752.0000\n",
            "Epoch 7/100\n",
            "30/30 [==============================] - 0s 4ms/step - loss: 38977028096.0000 - val_loss: 37644083200.0000\n",
            "Epoch 8/100\n",
            "30/30 [==============================] - 0s 4ms/step - loss: 38873247744.0000 - val_loss: 37533855744.0000\n",
            "Epoch 9/100\n",
            "30/30 [==============================] - 0s 4ms/step - loss: 38738726912.0000 - val_loss: 37389701120.0000\n",
            "Epoch 10/100\n",
            "30/30 [==============================] - 0s 4ms/step - loss: 38558420992.0000 - val_loss: 37207035904.0000\n",
            "Epoch 11/100\n",
            "30/30 [==============================] - 0s 4ms/step - loss: 38335512576.0000 - val_loss: 36985049088.0000\n",
            "Epoch 12/100\n",
            "30/30 [==============================] - 0s 4ms/step - loss: 38059814912.0000 - val_loss: 36709179392.0000\n",
            "Epoch 13/100\n",
            "30/30 [==============================] - 0s 4ms/step - loss: 37733609472.0000 - val_loss: 36383588352.0000\n",
            "Epoch 14/100\n",
            "30/30 [==============================] - 0s 4ms/step - loss: 37339570176.0000 - val_loss: 35996004352.0000\n",
            "Epoch 15/100\n",
            "30/30 [==============================] - 0s 4ms/step - loss: 36905492480.0000 - val_loss: 35567939584.0000\n",
            "Epoch 16/100\n",
            "30/30 [==============================] - 0s 4ms/step - loss: 36405387264.0000 - val_loss: 35092107264.0000\n",
            "Epoch 17/100\n",
            "30/30 [==============================] - 0s 4ms/step - loss: 35854843904.0000 - val_loss: 34545946624.0000\n",
            "Epoch 18/100\n",
            "30/30 [==============================] - 0s 4ms/step - loss: 35247550464.0000 - val_loss: 33946783744.0000\n",
            "Epoch 19/100\n",
            "30/30 [==============================] - 0s 4ms/step - loss: 34563321856.0000 - val_loss: 33288134656.0000\n",
            "Epoch 20/100\n",
            "30/30 [==============================] - 0s 4ms/step - loss: 33810223104.0000 - val_loss: 32593731584.0000\n",
            "Epoch 21/100\n",
            "30/30 [==============================] - 0s 4ms/step - loss: 32987314176.0000 - val_loss: 31826288640.0000\n",
            "Epoch 22/100\n",
            "30/30 [==============================] - 0s 4ms/step - loss: 32110905344.0000 - val_loss: 30982260736.0000\n",
            "Epoch 23/100\n",
            "30/30 [==============================] - 0s 4ms/step - loss: 31172870144.0000 - val_loss: 30092754944.0000\n",
            "Epoch 24/100\n",
            "30/30 [==============================] - 0s 4ms/step - loss: 30228002816.0000 - val_loss: 29178634240.0000\n",
            "Epoch 25/100\n",
            "30/30 [==============================] - 0s 4ms/step - loss: 29206571008.0000 - val_loss: 28212281344.0000\n",
            "Epoch 26/100\n",
            "30/30 [==============================] - 0s 4ms/step - loss: 28118468608.0000 - val_loss: 27218210816.0000\n",
            "Epoch 27/100\n",
            "30/30 [==============================] - 0s 4ms/step - loss: 27017680896.0000 - val_loss: 26176905216.0000\n",
            "Epoch 28/100\n",
            "30/30 [==============================] - 0s 4ms/step - loss: 25912023040.0000 - val_loss: 25109780480.0000\n",
            "Epoch 29/100\n",
            "30/30 [==============================] - 0s 4ms/step - loss: 24762845184.0000 - val_loss: 24018954240.0000\n",
            "Epoch 30/100\n",
            "30/30 [==============================] - 0s 4ms/step - loss: 23555338240.0000 - val_loss: 22920040448.0000\n",
            "Epoch 31/100\n",
            "30/30 [==============================] - 0s 4ms/step - loss: 22446026752.0000 - val_loss: 21814093824.0000\n",
            "Epoch 32/100\n",
            "30/30 [==============================] - 0s 4ms/step - loss: 21182429184.0000 - val_loss: 20693790720.0000\n",
            "Epoch 33/100\n",
            "30/30 [==============================] - 0s 4ms/step - loss: 20047089664.0000 - val_loss: 19561142272.0000\n",
            "Epoch 34/100\n",
            "30/30 [==============================] - 0s 4ms/step - loss: 18877382656.0000 - val_loss: 18460522496.0000\n",
            "Epoch 35/100\n",
            "30/30 [==============================] - 0s 4ms/step - loss: 17740916736.0000 - val_loss: 17393346560.0000\n",
            "Epoch 36/100\n",
            "30/30 [==============================] - 0s 4ms/step - loss: 16583988224.0000 - val_loss: 16340041728.0000\n",
            "Epoch 37/100\n",
            "30/30 [==============================] - 0s 4ms/step - loss: 15677453312.0000 - val_loss: 15313284096.0000\n",
            "Epoch 38/100\n",
            "30/30 [==============================] - 0s 4ms/step - loss: 14509841408.0000 - val_loss: 14349571072.0000\n",
            "Epoch 39/100\n",
            "30/30 [==============================] - 0s 4ms/step - loss: 13542623232.0000 - val_loss: 13401849856.0000\n",
            "Epoch 40/100\n",
            "30/30 [==============================] - 0s 4ms/step - loss: 12847572992.0000 - val_loss: 12529664000.0000\n",
            "Epoch 41/100\n",
            "30/30 [==============================] - 0s 6ms/step - loss: 11821787136.0000 - val_loss: 11690575872.0000\n",
            "Epoch 42/100\n",
            "30/30 [==============================] - 0s 12ms/step - loss: 11099387904.0000 - val_loss: 10863775744.0000\n",
            "Epoch 43/100\n",
            "30/30 [==============================] - 0s 10ms/step - loss: 10235106304.0000 - val_loss: 10170210304.0000\n",
            "Epoch 44/100\n",
            "30/30 [==============================] - 0s 8ms/step - loss: 9820838912.0000 - val_loss: 9503992832.0000\n",
            "Epoch 45/100\n",
            "30/30 [==============================] - 0s 7ms/step - loss: 9143732224.0000 - val_loss: 8909878272.0000\n",
            "Epoch 46/100\n",
            "30/30 [==============================] - 0s 5ms/step - loss: 8557236736.0000 - val_loss: 8342423552.0000\n",
            "Epoch 47/100\n",
            "30/30 [==============================] - 0s 12ms/step - loss: 8106457088.0000 - val_loss: 7834129408.0000\n",
            "Epoch 48/100\n",
            "30/30 [==============================] - 0s 8ms/step - loss: 7732867584.0000 - val_loss: 7363086848.0000\n",
            "Epoch 49/100\n",
            "30/30 [==============================] - 0s 9ms/step - loss: 7354408960.0000 - val_loss: 6986833408.0000\n",
            "Epoch 50/100\n",
            "30/30 [==============================] - 0s 8ms/step - loss: 7101869056.0000 - val_loss: 6640171008.0000\n",
            "Epoch 51/100\n",
            "30/30 [==============================] - 0s 10ms/step - loss: 6663071232.0000 - val_loss: 6325737984.0000\n",
            "Epoch 52/100\n",
            "30/30 [==============================] - 0s 10ms/step - loss: 6426242560.0000 - val_loss: 6031677440.0000\n",
            "Epoch 53/100\n",
            "30/30 [==============================] - 0s 12ms/step - loss: 6268018688.0000 - val_loss: 5787013120.0000\n",
            "Epoch 54/100\n",
            "30/30 [==============================] - 0s 10ms/step - loss: 6248669696.0000 - val_loss: 5577880576.0000\n",
            "Epoch 55/100\n",
            "30/30 [==============================] - 0s 15ms/step - loss: 6074446848.0000 - val_loss: 5393249280.0000\n",
            "Epoch 56/100\n",
            "30/30 [==============================] - 0s 15ms/step - loss: 5863182336.0000 - val_loss: 5214130176.0000\n",
            "Epoch 57/100\n",
            "30/30 [==============================] - 0s 11ms/step - loss: 5873720832.0000 - val_loss: 5062305280.0000\n",
            "Epoch 58/100\n",
            "30/30 [==============================] - 0s 12ms/step - loss: 5844449280.0000 - val_loss: 4943746560.0000\n",
            "Epoch 59/100\n",
            "30/30 [==============================] - 0s 5ms/step - loss: 5570977280.0000 - val_loss: 4834525184.0000\n",
            "Epoch 60/100\n",
            "30/30 [==============================] - 0s 6ms/step - loss: 5451899392.0000 - val_loss: 4731400704.0000\n",
            "Epoch 61/100\n",
            "30/30 [==============================] - 0s 6ms/step - loss: 5254072320.0000 - val_loss: 4636929536.0000\n",
            "Epoch 62/100\n",
            "30/30 [==============================] - 0s 6ms/step - loss: 5481887232.0000 - val_loss: 4541018112.0000\n",
            "Epoch 63/100\n",
            "30/30 [==============================] - 0s 5ms/step - loss: 5402041344.0000 - val_loss: 4466186752.0000\n",
            "Epoch 64/100\n",
            "30/30 [==============================] - 0s 5ms/step - loss: 5418080768.0000 - val_loss: 4414374400.0000\n",
            "Epoch 65/100\n",
            "30/30 [==============================] - 0s 5ms/step - loss: 5333303296.0000 - val_loss: 4342088192.0000\n",
            "Epoch 66/100\n",
            "30/30 [==============================] - 0s 6ms/step - loss: 5299362304.0000 - val_loss: 4289723648.0000\n",
            "Epoch 67/100\n",
            "30/30 [==============================] - 0s 6ms/step - loss: 5186623488.0000 - val_loss: 4211232000.0000\n",
            "Epoch 68/100\n",
            "30/30 [==============================] - 0s 4ms/step - loss: 5023896064.0000 - val_loss: 4178449152.0000\n",
            "Epoch 69/100\n",
            "30/30 [==============================] - 0s 4ms/step - loss: 5085991936.0000 - val_loss: 4124793344.0000\n",
            "Epoch 70/100\n",
            "30/30 [==============================] - 0s 4ms/step - loss: 4968337920.0000 - val_loss: 4067875328.0000\n",
            "Epoch 71/100\n",
            "30/30 [==============================] - 0s 4ms/step - loss: 4903881728.0000 - val_loss: 4023101440.0000\n",
            "Epoch 72/100\n",
            "30/30 [==============================] - 0s 4ms/step - loss: 5090172928.0000 - val_loss: 3981964032.0000\n",
            "Epoch 73/100\n",
            "30/30 [==============================] - 0s 4ms/step - loss: 4905630208.0000 - val_loss: 3932216320.0000\n",
            "Epoch 74/100\n",
            "30/30 [==============================] - 0s 4ms/step - loss: 5040952320.0000 - val_loss: 3895971072.0000\n",
            "Epoch 75/100\n",
            "30/30 [==============================] - 0s 4ms/step - loss: 5001650176.0000 - val_loss: 3857107456.0000\n",
            "Epoch 76/100\n",
            "30/30 [==============================] - 0s 4ms/step - loss: 4838119936.0000 - val_loss: 3824924160.0000\n",
            "Epoch 77/100\n",
            "30/30 [==============================] - 0s 4ms/step - loss: 4937219072.0000 - val_loss: 3785986816.0000\n",
            "Epoch 78/100\n",
            "30/30 [==============================] - 0s 4ms/step - loss: 4918578688.0000 - val_loss: 3751555072.0000\n",
            "Epoch 79/100\n",
            "30/30 [==============================] - 0s 4ms/step - loss: 4838118912.0000 - val_loss: 3730306560.0000\n",
            "Epoch 80/100\n",
            "30/30 [==============================] - 0s 4ms/step - loss: 4846295552.0000 - val_loss: 3689405696.0000\n",
            "Epoch 81/100\n",
            "30/30 [==============================] - 0s 4ms/step - loss: 4653148672.0000 - val_loss: 3644267008.0000\n",
            "Epoch 82/100\n",
            "30/30 [==============================] - 0s 4ms/step - loss: 4653483008.0000 - val_loss: 3623966720.0000\n",
            "Epoch 83/100\n",
            "30/30 [==============================] - 0s 4ms/step - loss: 4642512896.0000 - val_loss: 3576316928.0000\n",
            "Epoch 84/100\n",
            "30/30 [==============================] - 0s 4ms/step - loss: 4561132032.0000 - val_loss: 3546015488.0000\n",
            "Epoch 85/100\n",
            "30/30 [==============================] - 0s 4ms/step - loss: 4627878400.0000 - val_loss: 3504262656.0000\n",
            "Epoch 86/100\n",
            "30/30 [==============================] - 0s 4ms/step - loss: 4571865600.0000 - val_loss: 3476250368.0000\n",
            "Epoch 87/100\n",
            "30/30 [==============================] - 0s 4ms/step - loss: 4615545856.0000 - val_loss: 3441081088.0000\n",
            "Epoch 88/100\n",
            "30/30 [==============================] - 0s 4ms/step - loss: 4581205504.0000 - val_loss: 3411913984.0000\n",
            "Epoch 89/100\n",
            "30/30 [==============================] - 0s 4ms/step - loss: 4572620288.0000 - val_loss: 3375658752.0000\n",
            "Epoch 90/100\n",
            "30/30 [==============================] - 0s 5ms/step - loss: 4586784256.0000 - val_loss: 3336756736.0000\n",
            "Epoch 91/100\n",
            "30/30 [==============================] - 0s 4ms/step - loss: 4481126912.0000 - val_loss: 3309445888.0000\n",
            "Epoch 92/100\n",
            "30/30 [==============================] - 0s 4ms/step - loss: 4385809920.0000 - val_loss: 3275420160.0000\n",
            "Epoch 93/100\n",
            "30/30 [==============================] - 0s 4ms/step - loss: 4305829376.0000 - val_loss: 3227811840.0000\n",
            "Epoch 94/100\n",
            "30/30 [==============================] - 0s 4ms/step - loss: 4318169600.0000 - val_loss: 3207907328.0000\n",
            "Epoch 95/100\n",
            "30/30 [==============================] - 0s 4ms/step - loss: 4139850496.0000 - val_loss: 3176310784.0000\n",
            "Epoch 96/100\n",
            "30/30 [==============================] - 0s 4ms/step - loss: 4295538176.0000 - val_loss: 3126776832.0000\n",
            "Epoch 97/100\n",
            "30/30 [==============================] - 0s 4ms/step - loss: 4206382592.0000 - val_loss: 3101696768.0000\n",
            "Epoch 98/100\n",
            "30/30 [==============================] - 0s 4ms/step - loss: 4295455232.0000 - val_loss: 3074756608.0000\n",
            "Epoch 99/100\n",
            "30/30 [==============================] - 0s 4ms/step - loss: 4054546688.0000 - val_loss: 3042664704.0000\n",
            "Epoch 100/100\n",
            "30/30 [==============================] - 0s 4ms/step - loss: 4145862400.0000 - val_loss: 3005742336.0000\n"
          ]
        }
      ]
    },
    {
      "cell_type": "code",
      "source": [
        "# 모델을 평가합니다. 테스트 데이터(X_test, y_test)를 사용하여 모델의 성능을 평가합니다.\n",
        "# 모델이 손실 함수로 정의한 평균 제곱 오차(Mean Squared Error)를 계산하여 출력합니다.\n",
        "model.evaluate(X_test, y_test)\n",
        "\n",
        "# 모델을 사용하여 예측을 수행합니다. 테스트 데이터(X_test)를 입력으로 사용하고,\n",
        "# 모델은 입력 데이터에 대한 주택 가격(SalePrice) 예측을 수행하여 predictions 변수에 저장합니다.\n",
        "predictions = model.predict(X_test)"
      ],
      "metadata": {
        "colab": {
          "base_uri": "https://localhost:8080/"
        },
        "id": "g_SuXrFtMYcY",
        "outputId": "e0d92c62-a9ef-40c0-e428-c0f9bfbb86a8"
      },
      "execution_count": 7,
      "outputs": [
        {
          "output_type": "stream",
          "name": "stdout",
          "text": [
            "10/10 [==============================] - 0s 2ms/step - loss: 3131754240.0000\n",
            "10/10 [==============================] - 0s 2ms/step\n"
          ]
        }
      ]
    },
    {
      "cell_type": "code",
      "source": [
        "# 테스트 데이터에서 무작위로 50개의 샘플을 선택합니다.\n",
        "sample_indices = np.random.choice(X_test.shape[0], 50, replace=False)\n",
        "\n",
        "# 선택한 샘플에 대한 실제 가격과 모델의 예측 가격을 가져옵니다.\n",
        "sample_true_values = y_test.iloc[sample_indices]\n",
        "sample_predictions = predictions[sample_indices]\n",
        "\n",
        "# 산점도(Scatter Plot)를 그립니다. x 축에는 실제 가격을, y 축에는 예측 가격을 표시합니다.\n",
        "plt.figure(figsize=(10,6))\n",
        "plt.scatter(sample_true_values, sample_predictions)\n",
        "plt.xlabel('Actual Prices')       # x 축 레이블\n",
        "plt.ylabel('Predicted Prices')    # y 축 레이블\n",
        "plt.title('Comparison of Actual and Predicted Prices')  # 그래프 제목\n",
        "plt.show()"
      ],
      "metadata": {
        "colab": {
          "base_uri": "https://localhost:8080/",
          "height": 564
        },
        "id": "otyoxJ6tMgBX",
        "outputId": "f14f44ce-0b2e-4f09-d621-a188bcc097ae"
      },
      "execution_count": 9,
      "outputs": [
        {
          "output_type": "display_data",
          "data": {
            "text/plain": [
              "<Figure size 1000x600 with 1 Axes>"
            ],
            "image/png": "[encoded data removed]"
          },
          "metadata": {}
        }
      ]
    }
  ]
}